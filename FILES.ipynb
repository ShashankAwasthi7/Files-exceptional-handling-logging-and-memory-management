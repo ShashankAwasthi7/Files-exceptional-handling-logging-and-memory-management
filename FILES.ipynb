{
 "cells": [
  {
   "cell_type": "markdown",
   "id": "edfca55d-f61e-41b1-a1c8-1ce90611fb35",
   "metadata": {},
   "source": [
    "Theory"
   ]
  },
  {
   "cell_type": "markdown",
   "id": "f50b4c99-362e-429c-94ce-23964881017b",
   "metadata": {},
   "source": [
    "Question1. What is the difference between interpreted and compiled languages?\n",
    "Answer : Compiled languages are translated into machine code by a compiler before the program is run. This results in a standalone executable file that is fast but specific to a particular platform (e.g., Windows or macOS).\n",
    "\n",
    "Examples: C, C++, Go, Rust.\n",
    "\n",
    "Interpreted languages are translated on the fly, line by line, by an interpreter while the program is running. This makes them more portable and easier to test, but generally slower.\n",
    "\n",
    "Examples: Python, JavaScript, Ruby, PHP.\n",
    "\n",
    "In short, the main difference is when the translation from human-readable code to machine instructions happens: before execution (compiled) or during execution (interpreted).\n"
   ]
  },
  {
   "cell_type": "markdown",
   "id": "60bec279-f926-4a5a-af0d-ffe08549ddf0",
   "metadata": {},
   "source": [
    "Question 2: What is exception handling in Python?\n",
    "Answer:  Exception handling in Python is a mechanism that allows you to manage and respond to errors (exceptions) that occur during the execution of a program without causing the program to crash. When an error occurs, Python raises an exception. Instead of letting the program terminate abruptly, you can \"catch\" these exceptions and implement code to handle them gracefully, ensuring the program can continue running or exit in a controlled manner. This improves the robustness and reliability of your applications."
   ]
  },
  {
   "cell_type": "markdown",
   "id": "1f7c41e0-4c12-46d1-b287-ddcf33f6f19c",
   "metadata": {},
   "source": [
    "Question 3: What is the purpose of the finally block in exception handling?\n",
    "Answer:  The finally block in Python's exception handling mechanism is used to define actions that must be executed regardless of whether an exception occurred in the try block or was handled by an except block. This makes it ideal for cleanup operations, such as closing files, releasing system resources, or database connections, ensuring that these critical tasks are always performed, even if an error disrupts the normal flow of the program."
   ]
  },
  {
   "cell_type": "markdown",
   "id": "05d4815f-ab99-4d36-a90d-af8cbf7f09e0",
   "metadata": {},
   "source": [
    "Question 4: What is logging in Python?\n",
    "Answer:  Logging in Python is a powerful and flexible way to record events that occur while a program is running. It allows developers to track the flow of execution, debug issues, and monitor the health and performance of an application. Instead of using simple print() statements for debugging (which are often removed in production), logging provides a more structured and configurable approach, allowing messages to be directed to various outputs (console, files, network, etc.) and filtered by severity levels. Python's built-in logging module facilitates this."
   ]
  },
  {
   "cell_type": "markdown",
   "id": "fb92330e-519e-45ab-a324-a1b5c0c10f37",
   "metadata": {},
   "source": [
    "Question3. What is the purpose of the finally block in exception handling?\n",
    "Answer :The finally block ensures that some code runs no matter what—whether an exception occurs or not. It is most often used for cleanup tasks, such as closing files or releasing resources, ensuring these actions always happen."
   ]
  },
  {
   "cell_type": "markdown",
   "id": "d56a9d7f-0237-432b-8295-3248d2efb69a",
   "metadata": {},
   "source": [
    " Question 4 . What is logging in Python?\n",
    "Answer:Logging in Python refers to the process of keeping a runtime record or log of events, errors, and informational messages, using the built-in logging module. This helps developers monitor program execution and debug issues without using print statements."
   ]
  },
  {
   "cell_type": "markdown",
   "id": "c4c2067a-c38c-441f-85bf-9a5d89067181",
   "metadata": {},
   "source": [
    "Question 5. What is the significance of the del method in Python?\n",
    "Answer:The __del__ method in Python is a special method known as a destructor. It is called when an object’s reference count reaches zero and the object is about to be garbage collected, often used for cleanup of resources"
   ]
  },
  {
   "cell_type": "markdown",
   "id": "f280bb33-6f0c-430f-9767-5068e32db364",
   "metadata": {},
   "source": [
    "Question 6. What is the difference between import and from ... import in Python?\n",
    "Answer:import module brings the whole module into scope, requiring references like module.name, while from module import name imports specific items directly, so they can be used without the module prefix."
   ]
  },
  {
   "cell_type": "markdown",
   "id": "8c373375-de6f-456e-855b-edc4819799c3",
   "metadata": {},
   "source": [
    "Question 7. How can you handle multiple exceptions in Python?\n",
    "Answer:Multiple exceptions can be handled by specifying a tuple of exceptions in a single except block: except (TypeError, ValueError):. Separate except blocks can be used for handling different exception types differently."
   ]
  },
  {
   "cell_type": "markdown",
   "id": "6ad5bc85-faa7-4613-979e-19e39cefe7d4",
   "metadata": {},
   "source": [
    "Question 8. What is the purpose of the with statement when handling files in Python?\n",
    "Answer:The with statement ensures that files are properly opened and automatically closed when the block is exited, even if errors occur, promoting safer and cleaner file handling"
   ]
  },
  {
   "cell_type": "markdown",
   "id": "625adc0d-500b-47a3-b89d-64c9b1ff1648",
   "metadata": {},
   "source": [
    "Question 9. What is the difference between multithreading and multiprocessing?\n",
    "Answer:Multithreading involves multiple threads in a single process sharing memory space, suitable for I/O-bound tasks. Multiprocessing uses multiple processes, each with its own memory space, suitable for CPU-bound tasks and bypassing Python’s Global Interpreter Lock (GIL)."
   ]
  },
  {
   "cell_type": "markdown",
   "id": "18e35eff-12ec-400a-a27e-970a9ded1950",
   "metadata": {},
   "source": [
    "Question 10. What are the advantages of using logging in a program?\n",
    "Answer:Advantages include easier debugging, persistent records of events, the ability to log at different levels (INFO, ERROR), and improved error monitoring, especially in production environments."
   ]
  },
  {
   "cell_type": "markdown",
   "id": "0cd31635-931e-4489-b100-dfa5a557dc67",
   "metadata": {},
   "source": [
    "Question 11. What is memory management in Python?\n",
    "Answer:Memory management in Python involves automatic allocation and deallocation of memory for objects through techniques like reference counting and garbage collection, helping prevent memory leaks."
   ]
  },
  {
   "cell_type": "markdown",
   "id": "cf649dda-173b-4f01-b8f6-a5109e06bdff",
   "metadata": {},
   "source": [
    "Question 12. What are the basic steps involved in exception handling in Python?\n",
    "Answer:The steps are: code prone to error is placed in a try block, exceptions are caught in except blocks, an else block handles code when no error occurs, and a finally block always executes for cleanup."
   ]
  },
  {
   "cell_type": "markdown",
   "id": "ae6026d4-0519-4fa9-a74a-493d4ed34d72",
   "metadata": {},
   "source": [
    "Question 13. Why is memory management important in Python?\n",
    "Answer:Good memory management prevents memory leaks and ensures efficient use of system resources, which is critical for performance and stability, especially in long-running or resource-heavy programs."
   ]
  },
  {
   "cell_type": "markdown",
   "id": "9bc246ca-6e85-4b9d-ae81-0d0ebf7f182c",
   "metadata": {},
   "source": [
    "Question 14. What is the role of try and except in exception handling?\n",
    "Answer:The try block wraps code that may raise an exception, and the except block catches and handles the raised exception, allowing the program to recover or display error information without crashing.\n",
    "\n"
   ]
  },
  {
   "cell_type": "markdown",
   "id": "400259a6-9439-4875-b9e6-27dbe2d84b00",
   "metadata": {},
   "source": [
    "Question 15. How does Python's garbage collection system work?\n",
    "Answer:Python’s garbage collector identifies and deallocates objects that are no longer referenced using reference counting and a cyclic garbage collector for detecting reference cycles.\n",
    "\n"
   ]
  },
  {
   "cell_type": "markdown",
   "id": "5ce65291-efb0-4375-99de-72f400440e37",
   "metadata": {},
   "source": [
    "Question 16. What is the purpose of the else block in exception handling?\n",
    "Answer:The else block executes if the try block succeeds without exceptions, allowing code that should only run if no errors occur to be kept separate from error handling logic.\n",
    "\n"
   ]
  },
  {
   "cell_type": "markdown",
   "id": "f67182bc-1fa2-43c8-8010-b277c63a416b",
   "metadata": {},
   "source": [
    "Question 17. What are the common logging levels in Python?\n",
    "Answer:The common logging levels are: DEBUG, INFO, WARNING, ERROR, and CRITICAL, indicating the severity of events to log"
   ]
  },
  {
   "cell_type": "markdown",
   "id": "f23e9c60-fe7f-46cd-8c0e-bea38c6de84d",
   "metadata": {},
   "source": [
    "Question 18. What is the difference between os.fork() and multiprocessing in Python?\n",
    "Answer:os.fork() is a low-level Unix method for process creation, while the multiprocessing module provides a cross-platform, higher-level API for managing processes and communication between them."
   ]
  },
  {
   "cell_type": "markdown",
   "id": "6161e4fb-1df1-4b65-940f-dc1deaed6a05",
   "metadata": {},
   "source": [
    "\n",
    "Question 19. What is the importance of closing a file in Python?\n",
    "Answer:Closing a file ensures that all data is written to disk and system resources are released, preventing data loss or resource leaks.\n"
   ]
  },
  {
   "cell_type": "markdown",
   "id": "de5cc33f-bdcc-42c9-84e6-a96a1681b8d1",
   "metadata": {},
   "source": [
    "Question 20. What is the difference between file.read() and file.readline() in Python?\n",
    "Answer:file.read() reads the entire content of a file as a single string or specified number of bytes, while file.readline() reads one line at a time from the file"
   ]
  },
  {
   "cell_type": "markdown",
   "id": "813841b4-c86b-46c0-a008-b1610acb09a9",
   "metadata": {},
   "source": [
    "Question 21. What is the logging module in Python used for?\n",
    "Answer:The logging module provides a flexible framework for emitting log messages from Python programs to various outputs like files or consoles, important for debugging and monitoring."
   ]
  },
  {
   "cell_type": "markdown",
   "id": "0b6f2688-3465-40ca-b676-3e3585bfed0c",
   "metadata": {},
   "source": [
    "Question 22. What is the os module in Python used for in file handling?\n",
    "Answer:The os module offers functions to interact with the operating system, such as file and directory operations (create, delete, check existence), making file handling tasks easier.\n",
    "\n"
   ]
  },
  {
   "cell_type": "markdown",
   "id": "554de882-64fe-4ac7-8d13-a7950c342a0e",
   "metadata": {},
   "source": [
    "Question 23. What are the challenges associated with memory management in Python?\n",
    "Answer:Challenges include dealing with reference cycles, memory fragmentation, and performance overhead from automatic memory management in complex applications."
   ]
  },
  {
   "cell_type": "markdown",
   "id": "700673d4-9468-4a47-8357-d689742e7e18",
   "metadata": {},
   "source": [
    "Question 24. How do you raise an exception manually in Python?\n",
    "Answer:Use the raise statement, e.g., raise ValueError(\"Invalid value\"), to explicitly signal an error in code."
   ]
  },
  {
   "cell_type": "markdown",
   "id": "1e101ae6-fb63-478c-aac5-5a390f03652f",
   "metadata": {},
   "source": [
    "Question 25. Why is it important to use multithreading in certain applications?\n",
    "Answer:Multithreading enables concurrent execution, making applications more responsive (for example, GUIs) and efficient in handling I/O-bound operations.\n",
    "\n"
   ]
  },
  {
   "cell_type": "markdown",
   "id": "13b097ac-6aac-4e16-a2d4-cad0761c7275",
   "metadata": {},
   "source": [
    "Practical Questions"
   ]
  },
  {
   "cell_type": "code",
   "execution_count": 29,
   "id": "5aecbf50-0bf9-41fd-8608-58bd16d973b1",
   "metadata": {},
   "outputs": [],
   "source": [
    "# 1. How can you open a file for writing in Python and write a string to it?\n",
    "with open('output.txt', 'w') as f:\n",
    "    f.write('Hello, world!')\n"
   ]
  },
  {
   "cell_type": "code",
   "execution_count": 30,
   "id": "16afb0f5-88d3-4118-b695-fa60191d772f",
   "metadata": {},
   "outputs": [
    {
     "name": "stdout",
     "output_type": "stream",
     "text": [
      "Hello, world!"
     ]
    }
   ],
   "source": [
    "# 2. Write a Python program to read the contents of a file and print each line.\n",
    "with open('output.txt', 'r') as f:\n",
    "    for line in f:\n",
    "        print(line, end='')\n"
   ]
  },
  {
   "cell_type": "code",
   "execution_count": 31,
   "id": "b2f7c6eb-c765-41f1-bb13-abca5b676a7b",
   "metadata": {},
   "outputs": [
    {
     "name": "stdout",
     "output_type": "stream",
     "text": [
      "File does not exist.\n"
     ]
    }
   ],
   "source": [
    "# 3. How would you handle a case where the file doesn't exist while trying to open it for reading?\n",
    "try:\n",
    "    with open('non_existent_file.txt', 'r') as f:\n",
    "        data = f.read()\n",
    "except FileNotFoundError:\n",
    "    print(\"File does not exist.\")\n"
   ]
  },
  {
   "cell_type": "code",
   "execution_count": null,
   "id": "2dcb0a4f-cca3-432a-a609-51428e661495",
   "metadata": {},
   "outputs": [],
   "source": [
    "# 4. Write a Python script that reads from one file and writes its content to another file.\n",
    "with open('input.txt', 'r') as infile, open('copy.txt', 'w') as outfile:\n",
    "    for line in infile:\n",
    "        outfile.write(line)\n"
   ]
  },
  {
   "cell_type": "code",
   "execution_count": 41,
   "id": "b271c217-195a-4dea-9c9e-9dc5505883a5",
   "metadata": {},
   "outputs": [
    {
     "name": "stdout",
     "output_type": "stream",
     "text": [
      "Division by zero is not allowed.\n"
     ]
    }
   ],
   "source": [
    "# 5. How would you catch and handle division by zero error in Python?\n",
    "try:\n",
    "    x = 10 / 0\n",
    "except ZeroDivisionError:\n",
    "    print(\"Division by zero is not allowed.\")\n"
   ]
  },
  {
   "cell_type": "code",
   "execution_count": null,
   "id": "f10afa89-5fda-4b3d-9513-51f0f0dc4edd",
   "metadata": {},
   "outputs": [],
   "source": [
    "# 6. Write a Python program that logs an error message to a log file when a division by zero exception occurs.\n",
    "import logging\n",
    "logging.basicConfig(filename='error.log', level=logging.ERROR)\n",
    "try:\n",
    "    x = 10 / 0\n",
    "except ZeroDivisionError as e:\n",
    "    logging.error(f\"Error occurred: {e}\")\n"
   ]
  },
  {
   "cell_type": "code",
   "execution_count": null,
   "id": "176871d9-0e78-4f5f-b18a-2694446be754",
   "metadata": {},
   "outputs": [],
   "source": [
    "# 7. How do you log information at different levels (INFO, ERROR, WARNING) in Python using the logging module?\n",
    "import logging\n",
    "logging.basicConfig(filename='app.log', level=logging.INFO)\n",
    "logging.info('This is an informational message.')\n",
    "logging.warning('This is a warning message.')\n",
    "logging.error('This is an error message.')\n"
   ]
  },
  {
   "cell_type": "code",
   "execution_count": 43,
   "id": "01fe2527-7ab0-42d7-a915-fb1fe6ba09fd",
   "metadata": {},
   "outputs": [
    {
     "name": "stdout",
     "output_type": "stream",
     "text": [
      "Error: File could not be opened.\n"
     ]
    }
   ],
   "source": [
    "# 8. Write a program to handle a file opening error using exception handling.\n",
    "try:\n",
    "    with open('missing_file.txt', 'r') as f:\n",
    "        content = f.read()\n",
    "except IOError:\n",
    "    print(\"Error: File could not be opened.\")\n"
   ]
  },
  {
   "cell_type": "code",
   "execution_count": 45,
   "id": "4bca7936-3c1a-4984-a6d3-7856de824caf",
   "metadata": {},
   "outputs": [
    {
     "name": "stdout",
     "output_type": "stream",
     "text": [
      "['Hello, world!']\n"
     ]
    }
   ],
   "source": [
    "# 9. How can you read a file line by line and store its content in a list in Python?\n",
    "with open('output.txt', 'r') as f:\n",
    "    lines = f.readlines()\n",
    "print(lines)\n"
   ]
  },
  {
   "cell_type": "code",
   "execution_count": null,
   "id": "c91f55d2-8a35-45a4-b830-97531b2dc6c5",
   "metadata": {},
   "outputs": [],
   "source": [
    "# 10. How can you append data to an existing file in Python?\n",
    "with open('output.txt', 'a') as f:\n",
    "    f.write('\\nAppended line.')\n"
   ]
  },
  {
   "cell_type": "code",
   "execution_count": 47,
   "id": "d609ab89-833f-4970-bf52-e8a5081db5bf",
   "metadata": {},
   "outputs": [
    {
     "name": "stdout",
     "output_type": "stream",
     "text": [
      "Key does not exist.\n"
     ]
    }
   ],
   "source": [
    "# 11. Write a Python program that uses a try-except block to handle an error when attempting to access a dictionary key that doesn't exist.\n",
    "d = {'a': 1}\n",
    "try:\n",
    "    print(d['b'])\n",
    "except KeyError:\n",
    "    print(\"Key does not exist.\")\n"
   ]
  },
  {
   "cell_type": "code",
   "execution_count": 49,
   "id": "52bf061a-ee29-41eb-a544-8b9e560b41fd",
   "metadata": {},
   "outputs": [
    {
     "name": "stdout",
     "output_type": "stream",
     "text": [
      "Zero division error.\n"
     ]
    }
   ],
   "source": [
    "# 12. Write a program that demonstrates using multiple except blocks to handle different types of exceptions.\n",
    "try:\n",
    "    print(10 / 0)\n",
    "except ZeroDivisionError:\n",
    "    print(\"Zero division error.\")\n",
    "except KeyError:\n",
    "    print(\"Key error.\")\n",
    "except Exception as e:\n",
    "    print(f\"Other error: {e}\")\n"
   ]
  },
  {
   "cell_type": "code",
   "execution_count": 51,
   "id": "ebc4f376-dc50-4796-9b7d-49b505a482d5",
   "metadata": {},
   "outputs": [
    {
     "name": "stdout",
     "output_type": "stream",
     "text": [
      "Hello, world!\n"
     ]
    }
   ],
   "source": [
    "# 13. How would you check if a file exists before attempting to read it in Python?\n",
    "import os\n",
    "if os.path.exists('output.txt'):\n",
    "    with open('output.txt', 'r') as f:\n",
    "        print(f.read())\n",
    "else:\n",
    "    print(\"File does not exist.\")\n"
   ]
  },
  {
   "cell_type": "code",
   "execution_count": null,
   "id": "a70424ab-8a7b-46bb-afbb-f55ceb099adf",
   "metadata": {},
   "outputs": [],
   "source": [
    "# 14. Write a program that uses the logging module to log both informational and error messages.\n",
    "import logging\n",
    "logging.basicConfig(filename='info_error.log', level=logging.INFO)\n",
    "logging.info(\"Informational log message.\")\n",
    "logging.error(\"Error log message.\")\n"
   ]
  },
  {
   "cell_type": "code",
   "execution_count": 53,
   "id": "eaa4a046-02ee-40ce-8084-a0356b9eb18b",
   "metadata": {},
   "outputs": [
    {
     "name": "stdout",
     "output_type": "stream",
     "text": [
      "Hello, world!\n"
     ]
    }
   ],
   "source": [
    "# 15. Write a Python program that prints the content of a file and handles the case when the file is empty.\n",
    "with open('output.txt', 'r') as f:\n",
    "    content = f.read()\n",
    "    if content:\n",
    "        print(content)\n",
    "    else:\n",
    "        print(\"File is empty.\")\n"
   ]
  },
  {
   "cell_type": "code",
   "execution_count": null,
   "id": "ff6e76e7-511e-4c55-afe4-8f1d11003cc1",
   "metadata": {},
   "outputs": [],
   "source": [
    "# 16. Demonstrate how to use memory profiling to check the memory usage of a small program.\n",
    "# Install memory_profiler: pip install memory_profiler\n",
    "from memory_profiler import profile\n",
    "\n",
    "@profile\n",
    "def compute():\n",
    "    a = [i for i in range(1000)]\n",
    "    return sum(a)\n",
    "\n",
    "if __name__ == '__main__':\n",
    "    compute()\n"
   ]
  },
  {
   "cell_type": "code",
   "execution_count": null,
   "id": "1197baf0-6dc8-4e03-b5d9-930d492b7efa",
   "metadata": {},
   "outputs": [],
   "source": [
    "# 17. Write a Python program to create and write a list of numbers to a file, one number per line.\n",
    "numbers = [1, 2, 3, 4, 5]\n",
    "with open('numbers.txt', 'w') as f:\n",
    "    for number in numbers:\n",
    "        f.write(f\"{number}\\n\")\n"
   ]
  },
  {
   "cell_type": "code",
   "execution_count": null,
   "id": "2163d6f5-b13d-4dfa-8eba-9ee5532c0e50",
   "metadata": {},
   "outputs": [],
   "source": [
    "# 18. How would you implement a basic logging setup that logs to a file with rotation after 1MB?\n",
    "import logging\n",
    "from logging.handlers import RotatingFileHandler\n",
    "\n",
    "handler = RotatingFileHandler('mylog.log', maxBytes=1048576, backupCount=3)\n",
    "logging.basicConfig(handlers=[handler], level=logging.INFO)\n",
    "logging.info(\"Log with rotation after 1MB.\")\n"
   ]
  },
  {
   "cell_type": "code",
   "execution_count": 55,
   "id": "4753fde9-ddfa-4336-b074-c58b89aabf24",
   "metadata": {},
   "outputs": [
    {
     "name": "stdout",
     "output_type": "stream",
     "text": [
      "Index out of range.\n"
     ]
    }
   ],
   "source": [
    "# 19. Write a program that handles both IndexError and KeyError using a try-except block.\n",
    "try:\n",
    "    lst = [1, 2, 3]\n",
    "    print(lst[5])\n",
    "    d = {'a': 1}\n",
    "    print(d['b'])\n",
    "except IndexError:\n",
    "    print(\"Index out of range.\")\n",
    "except KeyError:\n",
    "    print(\"Key not found.\")\n"
   ]
  },
  {
   "cell_type": "code",
   "execution_count": 57,
   "id": "4fc7517e-22bf-4949-ab49-84e4329f769c",
   "metadata": {},
   "outputs": [
    {
     "name": "stdout",
     "output_type": "stream",
     "text": [
      "Hello, world!\n"
     ]
    }
   ],
   "source": [
    "# 20. How would you open a file and read its contents using a context manager in Python?\n",
    "with open('output.txt', 'r') as f:\n",
    "    data = f.read()\n",
    "    print(data)\n"
   ]
  },
  {
   "cell_type": "code",
   "execution_count": 59,
   "id": "73e678cb-193d-4d84-8b70-03c15bde9a7c",
   "metadata": {},
   "outputs": [
    {
     "name": "stdout",
     "output_type": "stream",
     "text": [
      "Occurrences of 'Hello': 1\n"
     ]
    }
   ],
   "source": [
    "# 21. Write a Python program that reads a file and prints the number of occurrences of a specific word.\n",
    "word = 'Hello'\n",
    "count = 0\n",
    "with open('output.txt', 'r') as f:\n",
    "    for line in f:\n",
    "        count += line.count(word)\n",
    "print(f\"Occurrences of '{word}': {count}\")\n"
   ]
  },
  {
   "cell_type": "code",
   "execution_count": 61,
   "id": "6bd0a0f1-6a3e-4b6c-af15-b29a84aebd2e",
   "metadata": {},
   "outputs": [
    {
     "name": "stdout",
     "output_type": "stream",
     "text": [
      "Hello, world!\n"
     ]
    }
   ],
   "source": [
    "# 22. How can you check if a file is empty before attempting to read its contents?\n",
    "import os\n",
    "if os.path.exists('output.txt') and os.stat('output.txt').st_size == 0:\n",
    "    print(\"File is empty.\")\n",
    "else:\n",
    "    with open('output.txt', 'r') as f:\n",
    "        print(f.read())\n"
   ]
  },
  {
   "cell_type": "code",
   "execution_count": null,
   "id": "659cb5f2-a8f6-49be-8619-51aa9b22d20c",
   "metadata": {},
   "outputs": [],
   "source": [
    "# 23. Write a Python program that writes to a log file when an error occurs during file handling.\n",
    "import logging\n",
    "logging.basicConfig(filename='file_error.log', level=logging.ERROR)\n",
    "try:\n",
    "    with open('somefile.txt', 'r') as f:\n",
    "        content = f.read()\n",
    "except Exception as e:\n",
    "    logging.error(f\"File handling error: {e}\")\n"
   ]
  }
 ],
 "metadata": {
  "kernelspec": {
   "display_name": "Python [conda env:base] *",
   "language": "python",
   "name": "conda-base-py"
  },
  "language_info": {
   "codemirror_mode": {
    "name": "ipython",
    "version": 3
   },
   "file_extension": ".py",
   "mimetype": "text/x-python",
   "name": "python",
   "nbconvert_exporter": "python",
   "pygments_lexer": "ipython3",
   "version": "3.12.7"
  }
 },
 "nbformat": 4,
 "nbformat_minor": 5
}
